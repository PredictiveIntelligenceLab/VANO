{
 "cells": [
  {
   "cell_type": "code",
   "execution_count": 1,
   "id": "24464d9b",
   "metadata": {},
   "outputs": [],
   "source": [
    "import pandas as pd \n",
    "import numpy as np\n",
    "import matplotlib.pyplot as plt"
   ]
  },
  {
   "cell_type": "code",
   "execution_count": 2,
   "id": "0af898d8",
   "metadata": {},
   "outputs": [],
   "source": [
    "plt.rcParams.update(plt.rcParamsDefault)\n",
    "plt.rc('font', family='serif')\n",
    "plt.rcParams.update({\n",
    "                      \"text.usetex\": True,\n",
    "                      \"font.family\": \"serif\",\n",
    "                      'text.latex.preamble': r'\\usepackage{amsmath}',\n",
    "                      'font.size': 20,\n",
    "                      'lines.linewidth': 3,\n",
    "                      'axes.labelsize': 22,  \n",
    "                      'axes.titlesize': 24,\n",
    "                      'xtick.labelsize': 20,\n",
    "                      'ytick.labelsize': 20,\n",
    "                      'legend.fontsize': 20,\n",
    "                      'axes.linewidth': 2})"
   ]
  },
  {
   "cell_type": "code",
   "execution_count": 3,
   "id": "e4cc5c32",
   "metadata": {},
   "outputs": [
    {
     "name": "stdout",
     "output_type": "stream",
     "text": [
      "eps_dim       4         32        64        128       256       512\n",
      "seed                                                               \n",
      "0        0.418094  0.259197  0.272099  0.287098  0.332485  0.517970\n",
      "1        0.418337  0.263529  0.257264  0.293150  0.321329  0.509590\n",
      "2        0.420310  0.261495  0.268801  0.299369  0.314465  0.452011\n",
      "3        0.416017  0.257677  0.272156  0.309324  0.343242  0.530782\n",
      "4        0.416246  0.250125  0.267807  0.298245  0.331151  0.515000\n",
      "eps_dim       4         32        64        128       256       512\n",
      "seed                                                               \n",
      "0        0.008825  0.011830  0.010918  0.013965  0.011192  0.342116\n",
      "1        0.008680  0.011962  0.009422  0.008606  0.021467  0.069446\n",
      "2        0.008373  0.009739  0.009541  0.010535  0.010533  0.050812\n",
      "3        0.010436  0.011718  0.017648  0.017134  0.057214  0.288440\n",
      "4        0.010282  0.007814  0.009027  0.016647  0.032794  0.251260\n"
     ]
    }
   ],
   "source": [
    "df = pd.read_csv('bumps2d_linear_decoder_dim_seed_sweep.csv')\n",
    "linear_dec = df[['eps_dim','seed','max_mmd']].pivot(index='seed', columns=['eps_dim'])['max_mmd']\n",
    "print(linear_dec)\n",
    "\n",
    "df = pd.read_csv('bumps2d_nonlinear_decoder_dim_seed_sweep.csv')\n",
    "nonlinear_dec = df[['eps_dim','seed','max_mmd']].pivot(index='seed', columns=['eps_dim'])['max_mmd']\n",
    "print(nonlinear_dec)\n",
    "\n",
    "axis_labels = [str(i) for i in list(nonlinear_dec.columns)]"
   ]
  },
  {
   "cell_type": "code",
   "execution_count": 7,
   "id": "ab792d8a",
   "metadata": {},
   "outputs": [
    {
     "data": {
      "image/png": "[encoded data removed]",
      "text/plain": [
       "<Figure size 640x480 with 1 Axes>"
      ]
     },
     "metadata": {},
     "output_type": "display_data"
    }
   ],
   "source": [
    "width = 0.4\n",
    "\n",
    "lin_dec = linear_dec.to_numpy()[:,:-1]\n",
    "nonlin_dec = nonlinear_dec.to_numpy()[:,:-1]\n",
    "\n",
    "plt.figure()\n",
    "plt.bar(np.arange(lin_dec.shape[1]), lin_dec.mean(0), yerr=lin_dec.std(0), width=width, label='Linear decoder')\n",
    "plt.bar(np.arange(lin_dec.shape[1])+width, nonlin_dec.mean(0), yerr=nonlin_dec.std(0), width=width, label='Nonlinear decoder')\n",
    "plt.legend(frameon=False)\n",
    "plt.xlabel(r'Latent dimension $n$')\n",
    "plt.ylabel('Generalized MMD')\n",
    "# plt.yscale('log')\n",
    "plt.xticks(np.arange(lin_dec.shape[1])+width/2, ['4','32','64','128','256'])\n",
    "plt.tight_layout()\n",
    "plt.savefig(\"bumps2d_sweep.png\", bbox_inches='tight', dpi=600)\n",
    "plt.show()\n",
    "\n"
   ]
  },
  {
   "cell_type": "code",
   "execution_count": null,
   "id": "fd21859a",
   "metadata": {},
   "outputs": [],
   "source": []
  }
 ],
 "metadata": {
  "kernelspec": {
   "display_name": "Python 3",
   "language": "python",
   "name": "python3"
  },
  "language_info": {
   "codemirror_mode": {
    "name": "ipython",
    "version": 3
   },
   "file_extension": ".py",
   "mimetype": "text/x-python",
   "name": "python",
   "nbconvert_exporter": "python",
   "pygments_lexer": "ipython3",
   "version": "3.9.15 (main, Oct 28 2022, 17:28:38) [GCC]"
  },
  "vscode": {
   "interpreter": {
    "hash": "36cf16204b8548560b1c020c4e8fb5b57f0e4c58016f52f2d4be01e192833930"
   }
  }
 },
 "nbformat": 4,
 "nbformat_minor": 5
}
